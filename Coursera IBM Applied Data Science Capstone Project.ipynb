{
    "cells": [
        {
            "cell_type": "markdown",
            "metadata": {
                "collapsed": true
            },
            "source": "# Coursera -- IBM Applied Data Science Capstone Project Week 1\n"
        },
        {
            "cell_type": "markdown",
            "metadata": {},
            "source": "This notebook will be mainly used for IBM course applied data science capstone week 1 proj\n\nCreate a new repository on your Github account and name it Coursera_Capstone. You can find a series of videos to walk you through the process of creating a repository on Github and setting it up and getting started with Git. For Mac users, click here. For Windows users, click here.\n\nNow, start a Jupyter Notebook using any platform that you are comfortable with and do the following:\n\n1. Write some markdown to explain that this notebook will be mainly used for the capstone project.\n\n2. Import the pandas library as pd.\n\n3. Import the Numpy library as np.\n\n4. Print the following the statement: Hello Capstone Project Course!\n\nPush the Notebook to your Github repository and submit a link to the notebook on your Github repository.\n\n"
        },
        {
            "cell_type": "markdown",
            "metadata": {},
            "source": "<h1>Table of contents</h1>"
        },
        {
            "cell_type": "code",
            "execution_count": 1,
            "metadata": {},
            "outputs": [],
            "source": "import pandas as pd\nimport numpy as np"
        },
        {
            "cell_type": "code",
            "execution_count": 2,
            "metadata": {},
            "outputs": [
                {
                    "name": "stdout",
                    "output_type": "stream",
                    "text": "Hello Capstone Project Course!\n"
                }
            ],
            "source": "print(\"Hello Capstone Project Course!\")"
        }
    ],
    "metadata": {
        "kernelspec": {
            "display_name": "Python 3.6",
            "language": "python",
            "name": "python3"
        },
        "language_info": {
            "codemirror_mode": {
                "name": "ipython",
                "version": 3
            },
            "file_extension": ".py",
            "mimetype": "text/x-python",
            "name": "python",
            "nbconvert_exporter": "python",
            "pygments_lexer": "ipython3",
            "version": "3.6.9"
        }
    },
    "nbformat": 4,
    "nbformat_minor": 1
}